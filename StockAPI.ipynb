{
 "cells": [
  {
   "cell_type": "code",
   "execution_count": 15,
   "id": "4db9d0ea-b449-47fa-903e-3951fae683e4",
   "metadata": {
    "scrolled": true
   },
   "outputs": [],
   "source": [
    "# Dependencies\n",
    "import pandas as pd\n",
    "import numpy as np\n",
    "import matplotlib.pyplot as plt\n",
    "import requests\n",
    "import json\n",
    "import datetime\n",
    "from scipy.stats import linregress\n",
    "\n",
    "# Import API Key\n",
    "from config import api_key"
   ]
  },
  {
   "cell_type": "code",
   "execution_count": 16,
   "id": "141f4841-32c6-4d8d-8dcb-2d5f8bfb7978",
   "metadata": {},
   "outputs": [],
   "source": [
    "# Attempt to get Monthly data from API for USD vs. JPY\n",
    "try:\n",
    "    usd_yen = requests.get(f\"https://www.alphavantage.co/query?function=FX_MONTHLY&from_symbol=USD&to_symbol=JPY&apikey={api_key}\").json()\n",
    "except:\n",
    "    print(\"Something went wrong with the API request.\")"
   ]
  },
  {
   "cell_type": "code",
   "execution_count": 17,
   "id": "8713c390-15f7-4d76-8fc7-f583bd3fc681",
   "metadata": {},
   "outputs": [
    {
     "data": {
      "text/html": [
       "<div>\n",
       "<style scoped>\n",
       "    .dataframe tbody tr th:only-of-type {\n",
       "        vertical-align: middle;\n",
       "    }\n",
       "\n",
       "    .dataframe tbody tr th {\n",
       "        vertical-align: top;\n",
       "    }\n",
       "\n",
       "    .dataframe thead th {\n",
       "        text-align: right;\n",
       "    }\n",
       "</style>\n",
       "<table border=\"1\" class=\"dataframe\">\n",
       "  <thead>\n",
       "    <tr style=\"text-align: right;\">\n",
       "      <th></th>\n",
       "      <th>1. open</th>\n",
       "      <th>2. high</th>\n",
       "      <th>3. low</th>\n",
       "      <th>4. close</th>\n",
       "    </tr>\n",
       "  </thead>\n",
       "  <tbody>\n",
       "    <tr>\n",
       "      <th>2024-11-18</th>\n",
       "      <td>152.28700</td>\n",
       "      <td>156.74600</td>\n",
       "      <td>151.34300</td>\n",
       "      <td>154.73700</td>\n",
       "    </tr>\n",
       "    <tr>\n",
       "      <th>2024-10-31</th>\n",
       "      <td>143.73599</td>\n",
       "      <td>153.86800</td>\n",
       "      <td>143.53200</td>\n",
       "      <td>151.98000</td>\n",
       "    </tr>\n",
       "    <tr>\n",
       "      <th>2024-09-30</th>\n",
       "      <td>146.38100</td>\n",
       "      <td>147.18800</td>\n",
       "      <td>139.57800</td>\n",
       "      <td>143.71001</td>\n",
       "    </tr>\n",
       "    <tr>\n",
       "      <th>2024-08-29</th>\n",
       "      <td>149.20100</td>\n",
       "      <td>149.76401</td>\n",
       "      <td>141.69701</td>\n",
       "      <td>144.89000</td>\n",
       "    </tr>\n",
       "    <tr>\n",
       "      <th>2024-07-31</th>\n",
       "      <td>161.51199</td>\n",
       "      <td>161.94200</td>\n",
       "      <td>148.50501</td>\n",
       "      <td>149.74400</td>\n",
       "    </tr>\n",
       "    <tr>\n",
       "      <th>...</th>\n",
       "      <td>...</td>\n",
       "      <td>...</td>\n",
       "      <td>...</td>\n",
       "      <td>...</td>\n",
       "    </tr>\n",
       "    <tr>\n",
       "      <th>2015-04-30</th>\n",
       "      <td>119.57600</td>\n",
       "      <td>120.83300</td>\n",
       "      <td>118.50700</td>\n",
       "      <td>119.45200</td>\n",
       "    </tr>\n",
       "    <tr>\n",
       "      <th>2015-03-31</th>\n",
       "      <td>119.84500</td>\n",
       "      <td>121.99600</td>\n",
       "      <td>118.33000</td>\n",
       "      <td>120.02200</td>\n",
       "    </tr>\n",
       "    <tr>\n",
       "      <th>2015-02-26</th>\n",
       "      <td>117.18500</td>\n",
       "      <td>120.40200</td>\n",
       "      <td>116.89600</td>\n",
       "      <td>119.37700</td>\n",
       "    </tr>\n",
       "    <tr>\n",
       "      <th>2015-01-29</th>\n",
       "      <td>119.89000</td>\n",
       "      <td>120.73600</td>\n",
       "      <td>115.86500</td>\n",
       "      <td>118.24800</td>\n",
       "    </tr>\n",
       "    <tr>\n",
       "      <th>2014-12-31</th>\n",
       "      <td>118.34200</td>\n",
       "      <td>121.67100</td>\n",
       "      <td>115.58000</td>\n",
       "      <td>119.67300</td>\n",
       "    </tr>\n",
       "  </tbody>\n",
       "</table>\n",
       "<p>120 rows × 4 columns</p>\n",
       "</div>"
      ],
      "text/plain": [
       "              1. open    2. high     3. low   4. close\n",
       "2024-11-18  152.28700  156.74600  151.34300  154.73700\n",
       "2024-10-31  143.73599  153.86800  143.53200  151.98000\n",
       "2024-09-30  146.38100  147.18800  139.57800  143.71001\n",
       "2024-08-29  149.20100  149.76401  141.69701  144.89000\n",
       "2024-07-31  161.51199  161.94200  148.50501  149.74400\n",
       "...               ...        ...        ...        ...\n",
       "2015-04-30  119.57600  120.83300  118.50700  119.45200\n",
       "2015-03-31  119.84500  121.99600  118.33000  120.02200\n",
       "2015-02-26  117.18500  120.40200  116.89600  119.37700\n",
       "2015-01-29  119.89000  120.73600  115.86500  118.24800\n",
       "2014-12-31  118.34200  121.67100  115.58000  119.67300\n",
       "\n",
       "[120 rows x 4 columns]"
      ]
     },
     "execution_count": 17,
     "metadata": {},
     "output_type": "execute_result"
    }
   ],
   "source": [
    "# Convert to DataFrame\n",
    "usdjpy_df = pd.DataFrame(usd_yen['Time Series FX (Monthly)'])\n",
    "usdjpy_df = usdjpy_df.transpose()\n",
    "usdjpy_df"
   ]
  },
  {
   "cell_type": "code",
   "execution_count": 18,
   "id": "07bac456-cc78-4b51-9650-2f0389611656",
   "metadata": {},
   "outputs": [
    {
     "data": {
      "text/html": [
       "<div>\n",
       "<style scoped>\n",
       "    .dataframe tbody tr th:only-of-type {\n",
       "        vertical-align: middle;\n",
       "    }\n",
       "\n",
       "    .dataframe tbody tr th {\n",
       "        vertical-align: top;\n",
       "    }\n",
       "\n",
       "    .dataframe thead th {\n",
       "        text-align: right;\n",
       "    }\n",
       "</style>\n",
       "<table border=\"1\" class=\"dataframe\">\n",
       "  <thead>\n",
       "    <tr style=\"text-align: right;\">\n",
       "      <th></th>\n",
       "      <th>Open</th>\n",
       "      <th>Close</th>\n",
       "      <th>High</th>\n",
       "      <th>Low</th>\n",
       "      <th>Daily Average</th>\n",
       "    </tr>\n",
       "  </thead>\n",
       "  <tbody>\n",
       "    <tr>\n",
       "      <th>2024-11-18</th>\n",
       "      <td>152.28700</td>\n",
       "      <td>154.73700</td>\n",
       "      <td>156.74600</td>\n",
       "      <td>151.34300</td>\n",
       "      <td>153.778250</td>\n",
       "    </tr>\n",
       "    <tr>\n",
       "      <th>2024-10-31</th>\n",
       "      <td>143.73599</td>\n",
       "      <td>151.98000</td>\n",
       "      <td>153.86800</td>\n",
       "      <td>143.53200</td>\n",
       "      <td>148.278998</td>\n",
       "    </tr>\n",
       "    <tr>\n",
       "      <th>2024-09-30</th>\n",
       "      <td>146.38100</td>\n",
       "      <td>143.71001</td>\n",
       "      <td>147.18800</td>\n",
       "      <td>139.57800</td>\n",
       "      <td>144.214252</td>\n",
       "    </tr>\n",
       "    <tr>\n",
       "      <th>2024-08-29</th>\n",
       "      <td>149.20100</td>\n",
       "      <td>144.89000</td>\n",
       "      <td>149.76401</td>\n",
       "      <td>141.69701</td>\n",
       "      <td>146.388005</td>\n",
       "    </tr>\n",
       "    <tr>\n",
       "      <th>2024-07-31</th>\n",
       "      <td>161.51199</td>\n",
       "      <td>149.74400</td>\n",
       "      <td>161.94200</td>\n",
       "      <td>148.50501</td>\n",
       "      <td>155.425750</td>\n",
       "    </tr>\n",
       "  </tbody>\n",
       "</table>\n",
       "</div>"
      ],
      "text/plain": [
       "                 Open      Close       High        Low  Daily Average\n",
       "2024-11-18  152.28700  154.73700  156.74600  151.34300     153.778250\n",
       "2024-10-31  143.73599  151.98000  153.86800  143.53200     148.278998\n",
       "2024-09-30  146.38100  143.71001  147.18800  139.57800     144.214252\n",
       "2024-08-29  149.20100  144.89000  149.76401  141.69701     146.388005\n",
       "2024-07-31  161.51199  149.74400  161.94200  148.50501     155.425750"
      ]
     },
     "execution_count": 18,
     "metadata": {},
     "output_type": "execute_result"
    }
   ],
   "source": [
    "# Clean Dataframe\n",
    "renamed_df = usdjpy_df.rename(columns={\"1. open\":\"Open\", \"2. high\":\"High\", \"3. low\":\"Low\", \"4. close\":\"Close\"})\n",
    "clean_df = renamed_df[[\"Open\", \"Close\", \"High\", \"Low\"]].astype(float)\n",
    "clean_df[\"Daily Average\"] = clean_df.mean(axis=1)\n",
    "clean_df\n",
    "clean_df.index = pd.to_datetime(clean_df.index)\n",
    "clean_df.head()\n"
   ]
  },
  {
   "cell_type": "code",
   "execution_count": 19,
   "id": "b2bac519-acd2-4a00-90a0-c720da28bdd8",
   "metadata": {},
   "outputs": [
    {
     "name": "stdout",
     "output_type": "stream",
     "text": [
      "USD to JPY from 2024-11-18 to 2014-12-31 \n",
      "USD to JPY Mean= 119.71 \n",
      "USD to JPY Median= 112.85 \n",
      "USD to JPY STD Error= 15.26 \n",
      "USD to JPY Variance= 232.92\n"
     ]
    }
   ],
   "source": [
    "# Summarize Open, Close, High, and Low of USD to JPY\n",
    "start_time = list(usd_yen[\"Time Series FX (Monthly)\"])[0]\n",
    "end_time = list(usd_yen[\"Time Series FX (Monthly)\"])[-1]\n",
    "usdjpy_mean = clean_df[\"Open\"].mean()\n",
    "usdjpy_median = clean_df[\"Open\"].median()\n",
    "usdjpy_std = clean_df[\"Open\"].std()\n",
    "usdjpy_var = clean_df[\"Open\"].var()\n",
    "print(f\"USD to JPY from {start_time} to {end_time} \\nUSD to JPY Mean= {round(usdjpy_mean, 2)} \\nUSD to JPY Median= {round(usdjpy_median, 2)} \\nUSD to JPY STD Error= {round(usdjpy_std, 2)} \\nUSD to JPY Variance= {round(usdjpy_var, 2)}\")\n"
   ]
  },
  {
   "cell_type": "code",
   "execution_count": 20,
   "id": "9580fb68-7259-4838-a4f1-eaa92276e4c5",
   "metadata": {},
   "outputs": [
    {
     "name": "stdout",
     "output_type": "stream",
     "text": [
      "y = 0.96x + 9.86\n"
     ]
    },
    {
     "data": {
      "text/plain": [
       "<Axes: title={'center': 'USD to JPY from 2024-03-29 to 2024-07-23'}>"
      ]
     },
     "execution_count": 20,
     "metadata": {},
     "output_type": "execute_result"
    },
    {
     "data": {
      "image/png": "[encoded data removed]",
      "text/plain": [
       "<Figure size 640x480 with 1 Axes>"
      ]
     },
     "metadata": {},
     "output_type": "display_data"
    }
   ],
   "source": [
    "# Make df for Necropolis League\n",
    "nec_start = pd.to_datetime(\"2024-03-29\")\n",
    "nec_end = pd.to_datetime(\"2024-07-23\")\n",
    "nec_time = clean_df[(clean_df.index <= nec_end) & (clean_df.index >= nec_start)]\n",
    "nec_time_daily = nec_time[\"Daily Average\"]\n",
    "\n",
    "# Linear Regression for Necropolis League USD->JPY\n",
    "(slope, intercept, rvalue, pvalue, stderr) = linregress(nec_time[\"Open\"], nec_time[\"Close\"])\n",
    "nec_line_eq = f\"y = {round(slope, 2)}x + {round(intercept, 2)}\"\n",
    "print(nec_line_eq)\n",
    "nec_start_date = nec_start.date()\n",
    "nec_end_date = nec_end.date()\n",
    "nec_time_daily.plot(use_index=True, title= f\"USD to JPY from {nec_start_date} to {nec_end_date}\")"
   ]
  },
  {
   "cell_type": "code",
   "execution_count": 21,
   "id": "2cb6bb64",
   "metadata": {},
   "outputs": [
    {
     "name": "stdout",
     "output_type": "stream",
     "text": [
      "y = 0.55x + 64.35\n"
     ]
    },
    {
     "data": {
      "text/plain": [
       "<Axes: title={'center': 'USD to JPY from 2023-04-07 to 2023-08-15'}, ylabel='JPY to the USD'>"
      ]
     },
     "execution_count": 21,
     "metadata": {},
     "output_type": "execute_result"
    },
    {
     "data": {
      "image/png": "[encoded data removed]",
      "text/plain": [
       "<Figure size 640x480 with 1 Axes>"
      ]
     },
     "metadata": {},
     "output_type": "display_data"
    }
   ],
   "source": [
    "# Make df for Crucible League\n",
    "cru_start = pd.to_datetime(\"2023-04-07\")\n",
    "cru_end = pd.to_datetime(\"2023-08-15\")\n",
    "cru_time = clean_df[(clean_df.index <= cru_end) & (clean_df.index >= cru_start)]\n",
    "cru_time_daily = cru_time[\"Daily Average\"]\n",
    "\n",
    "# Linear Regression for Crucible League USD->JPY\n",
    "(slope, intercept, rvalue, pvalue, stderr) = linregress(cru_time[\"Open\"], cru_time[\"Close\"])\n",
    "cru_line_eq = f\"y = {round(slope, 2)}x + {round(intercept, 2)}\"\n",
    "print(cru_line_eq)\n",
    "cru_end_date = cru_end.date()\n",
    "cru_start_date = cru_start.date()\n",
    "cru_time_daily.plot(use_index=True, title= f\"USD to JPY from {cru_start_date} to {cru_end_date}\", ylabel= \"JPY to the USD\")\n"
   ]
  },
  {
   "cell_type": "code",
   "execution_count": 22,
   "id": "f1851171",
   "metadata": {},
   "outputs": [
    {
     "name": "stdout",
     "output_type": "stream",
     "text": [
      "JPY to USD from 2024-03-29 to 2024-07-23 (Necropolis) \n",
      "JPY to USD Mean= 154.79 \n",
      "JPY to USD Median= 155.29 \n",
      "JPY to USD STD Error= 3.57 \n",
      "JPY to USD Variance= 12.74\n"
     ]
    }
   ],
   "source": [
    "# Necropolis timeframe statistics\n",
    "nec_mean = nec_time_daily.mean()\n",
    "nec_median = nec_time_daily.median()\n",
    "nec_std = nec_time_daily.std()\n",
    "nec_var = nec_time_daily.var()\n",
    "print(f\"JPY to USD from {nec_start_date} to {nec_end_date} (Necropolis) \\nJPY to USD Mean= {round(nec_mean, 2)} \\nJPY to USD Median= {round(nec_median, 2)} \\nJPY to USD STD Error= {round(nec_std, 2)} \\nJPY to USD Variance= {round(nec_var, 2)}\")"
   ]
  },
  {
   "cell_type": "code",
   "execution_count": 23,
   "id": "52fe46a1",
   "metadata": {},
   "outputs": [
    {
     "name": "stdout",
     "output_type": "stream",
     "text": [
      "JPY to USD from 2023-04-07 to 2023-08-15 (Crucible) \n",
      "JPY to USD Mean= 139.07 \n",
      "JPY to USD Median= 139.8 \n",
      "JPY to USD STD Error= 3.67 \n",
      "JPY to USD Variance= 13.44\n"
     ]
    }
   ],
   "source": [
    "# Crucible timeframe statistics\n",
    "cru_mean = cru_time_daily.mean()\n",
    "cru_median = cru_time_daily.median()\n",
    "cru_std = cru_time_daily.std()\n",
    "cru_var = cru_time_daily.var()\n",
    "print(f\"JPY to USD from {cru_start_date} to {cru_end_date} (Crucible) \\nJPY to USD Mean= {round(cru_mean, 2)} \\nJPY to USD Median= {round(cru_median, 2)} \\nJPY to USD STD Error= {round(cru_std, 2)} \\nJPY to USD Variance= {round(cru_var, 2)}\")"
   ]
  },
  {
   "cell_type": "code",
   "execution_count": 24,
   "id": "afce0a03",
   "metadata": {},
   "outputs": [],
   "source": [
    "# Create Dataframe for necropolis time frame and reset index to for formatting\n",
    "nec_time = clean_df[(clean_df.index <= nec_end) & (clean_df.index >= nec_start)]\n",
    "nec_time = nec_time.reset_index(names=\"Date\")\n",
    "\n"
   ]
  },
  {
   "cell_type": "code",
   "execution_count": 25,
   "id": "8e1f5848",
   "metadata": {},
   "outputs": [
    {
     "data": {
      "text/html": [
       "<div>\n",
       "<style scoped>\n",
       "    .dataframe tbody tr th:only-of-type {\n",
       "        vertical-align: middle;\n",
       "    }\n",
       "\n",
       "    .dataframe tbody tr th {\n",
       "        vertical-align: top;\n",
       "    }\n",
       "\n",
       "    .dataframe thead th {\n",
       "        text-align: right;\n",
       "    }\n",
       "</style>\n",
       "<table border=\"1\" class=\"dataframe\">\n",
       "  <thead>\n",
       "    <tr style=\"text-align: right;\">\n",
       "      <th></th>\n",
       "      <th>Date</th>\n",
       "      <th>Open</th>\n",
       "      <th>Close</th>\n",
       "      <th>High</th>\n",
       "      <th>Low</th>\n",
       "      <th>Daily Average</th>\n",
       "      <th>Ordinal</th>\n",
       "    </tr>\n",
       "  </thead>\n",
       "  <tbody>\n",
       "    <tr>\n",
       "      <th>0</th>\n",
       "      <td>2024-06-30</td>\n",
       "      <td>157.17999</td>\n",
       "      <td>160.907</td>\n",
       "      <td>161.71500</td>\n",
       "      <td>154.60100</td>\n",
       "      <td>158.600748</td>\n",
       "      <td>739067</td>\n",
       "    </tr>\n",
       "    <tr>\n",
       "      <th>1</th>\n",
       "      <td>2024-05-30</td>\n",
       "      <td>155.70399</td>\n",
       "      <td>156.953</td>\n",
       "      <td>157.63901</td>\n",
       "      <td>151.88100</td>\n",
       "      <td>155.544250</td>\n",
       "      <td>739036</td>\n",
       "    </tr>\n",
       "    <tr>\n",
       "      <th>2</th>\n",
       "      <td>2024-04-30</td>\n",
       "      <td>151.58099</td>\n",
       "      <td>157.722</td>\n",
       "      <td>159.96100</td>\n",
       "      <td>150.85400</td>\n",
       "      <td>155.029498</td>\n",
       "      <td>739006</td>\n",
       "    </tr>\n",
       "    <tr>\n",
       "      <th>3</th>\n",
       "      <td>2024-03-31</td>\n",
       "      <td>150.10500</td>\n",
       "      <td>151.398</td>\n",
       "      <td>151.94400</td>\n",
       "      <td>146.49499</td>\n",
       "      <td>149.985498</td>\n",
       "      <td>738976</td>\n",
       "    </tr>\n",
       "  </tbody>\n",
       "</table>\n",
       "</div>"
      ],
      "text/plain": [
       "        Date       Open    Close       High        Low  Daily Average  Ordinal\n",
       "0 2024-06-30  157.17999  160.907  161.71500  154.60100     158.600748   739067\n",
       "1 2024-05-30  155.70399  156.953  157.63901  151.88100     155.544250   739036\n",
       "2 2024-04-30  151.58099  157.722  159.96100  150.85400     155.029498   739006\n",
       "3 2024-03-31  150.10500  151.398  151.94400  146.49499     149.985498   738976"
      ]
     },
     "execution_count": 25,
     "metadata": {},
     "output_type": "execute_result"
    }
   ],
   "source": [
    "# Add column of Ordinal formated from datetime to dataframe\n",
    "nec_time[\"Ordinal\"] = nec_time[\"Date\"].apply(pd.Timestamp.toordinal)\n",
    "nec_time"
   ]
  },
  {
   "cell_type": "code",
   "execution_count": 26,
   "id": "621eb99b",
   "metadata": {},
   "outputs": [
    {
     "name": "stdout",
     "output_type": "stream",
     "text": [
      "0.0869614522413851 * x + -64111.57113911868\n"
     ]
    },
    {
     "data": {
      "text/plain": [
       "[<matplotlib.lines.Line2D at 0x237988ee030>]"
      ]
     },
     "execution_count": 26,
     "metadata": {},
     "output_type": "execute_result"
    },
    {
     "data": {
      "image/png": "[encoded data removed]",
      "text/plain": [
       "<Figure size 640x480 with 1 Axes>"
      ]
     },
     "metadata": {},
     "output_type": "display_data"
    }
   ],
   "source": [
    "# Plot best fit line to scatter graph of data using polyfit\n",
    "m, b = np.polyfit(nec_time[\"Ordinal\"], nec_time[\"Daily Average\"], 1)\n",
    "print(f\"{m} * x + {b}\")\n",
    "plt.scatter(nec_time[\"Ordinal\"], nec_time[\"Daily Average\"])\n",
    "plt.plot(nec_time[\"Ordinal\"], m * nec_time[\"Ordinal\"] + b, color=\"red\")"
   ]
  },
  {
   "cell_type": "code",
   "execution_count": 27,
   "id": "2cc6add1",
   "metadata": {},
   "outputs": [
    {
     "name": "stdout",
     "output_type": "stream",
     "text": [
      "y = 0.08696145224091921x + -64111.571138774416\n"
     ]
    }
   ],
   "source": [
    "# Linear regression aquired from scipy\n",
    "slope, intercept, r, p, se = linregress(nec_time[\"Ordinal\"], nec_time[\"Daily Average\"])\n",
    "print(f\"y = {slope}x + {intercept}\")"
   ]
  },
  {
   "cell_type": "code",
   "execution_count": 29,
   "id": "8803e533",
   "metadata": {},
   "outputs": [],
   "source": [
    "# Create Dataframe for crucible time frame and reset index to for formatting\n",
    "cru_time = clean_df[(clean_df.index <= nec_end) & (clean_df.index >= nec_start)]\n",
    "cru_time = cru_time.reset_index(names=\"Date\")"
   ]
  },
  {
   "cell_type": "code",
   "execution_count": 30,
   "id": "28ed478f",
   "metadata": {},
   "outputs": [
    {
     "data": {
      "text/html": [
       "<div>\n",
       "<style scoped>\n",
       "    .dataframe tbody tr th:only-of-type {\n",
       "        vertical-align: middle;\n",
       "    }\n",
       "\n",
       "    .dataframe tbody tr th {\n",
       "        vertical-align: top;\n",
       "    }\n",
       "\n",
       "    .dataframe thead th {\n",
       "        text-align: right;\n",
       "    }\n",
       "</style>\n",
       "<table border=\"1\" class=\"dataframe\">\n",
       "  <thead>\n",
       "    <tr style=\"text-align: right;\">\n",
       "      <th></th>\n",
       "      <th>Date</th>\n",
       "      <th>Open</th>\n",
       "      <th>Close</th>\n",
       "      <th>High</th>\n",
       "      <th>Low</th>\n",
       "      <th>Daily Average</th>\n",
       "      <th>Ordinal</th>\n",
       "    </tr>\n",
       "  </thead>\n",
       "  <tbody>\n",
       "    <tr>\n",
       "      <th>0</th>\n",
       "      <td>2024-06-30</td>\n",
       "      <td>157.17999</td>\n",
       "      <td>160.907</td>\n",
       "      <td>161.71500</td>\n",
       "      <td>154.60100</td>\n",
       "      <td>158.600748</td>\n",
       "      <td>739067</td>\n",
       "    </tr>\n",
       "    <tr>\n",
       "      <th>1</th>\n",
       "      <td>2024-05-30</td>\n",
       "      <td>155.70399</td>\n",
       "      <td>156.953</td>\n",
       "      <td>157.63901</td>\n",
       "      <td>151.88100</td>\n",
       "      <td>155.544250</td>\n",
       "      <td>739036</td>\n",
       "    </tr>\n",
       "    <tr>\n",
       "      <th>2</th>\n",
       "      <td>2024-04-30</td>\n",
       "      <td>151.58099</td>\n",
       "      <td>157.722</td>\n",
       "      <td>159.96100</td>\n",
       "      <td>150.85400</td>\n",
       "      <td>155.029498</td>\n",
       "      <td>739006</td>\n",
       "    </tr>\n",
       "    <tr>\n",
       "      <th>3</th>\n",
       "      <td>2024-03-31</td>\n",
       "      <td>150.10500</td>\n",
       "      <td>151.398</td>\n",
       "      <td>151.94400</td>\n",
       "      <td>146.49499</td>\n",
       "      <td>149.985498</td>\n",
       "      <td>738976</td>\n",
       "    </tr>\n",
       "  </tbody>\n",
       "</table>\n",
       "</div>"
      ],
      "text/plain": [
       "        Date       Open    Close       High        Low  Daily Average  Ordinal\n",
       "0 2024-06-30  157.17999  160.907  161.71500  154.60100     158.600748   739067\n",
       "1 2024-05-30  155.70399  156.953  157.63901  151.88100     155.544250   739036\n",
       "2 2024-04-30  151.58099  157.722  159.96100  150.85400     155.029498   739006\n",
       "3 2024-03-31  150.10500  151.398  151.94400  146.49499     149.985498   738976"
      ]
     },
     "execution_count": 30,
     "metadata": {},
     "output_type": "execute_result"
    }
   ],
   "source": [
    "# Add column of Ordinal formated from datetime to dataframe\n",
    "cru_time[\"Ordinal\"] = cru_time[\"Date\"].apply(pd.Timestamp.toordinal)\n",
    "cru_time"
   ]
  },
  {
   "cell_type": "code",
   "execution_count": 41,
   "id": "7b338af1",
   "metadata": {},
   "outputs": [
    {
     "name": "stdout",
     "output_type": "stream",
     "text": [
      "y = 0.09 * x + -64111.57\n"
     ]
    },
    {
     "data": {
      "image/png": "[encoded data removed]",
      "text/plain": [
       "<Figure size 640x480 with 1 Axes>"
      ]
     },
     "metadata": {},
     "output_type": "display_data"
    }
   ],
   "source": [
    "# Plot best fit line to scatter graph of data using polyfit\n",
    "m, b = np.polyfit(cru_time[\"Ordinal\"], cru_time[\"Daily Average\"], 1)\n",
    "cru_time_lin_eq = f\"y = {round(m, 2)} * x + {round(b, 2)}\"\n",
    "print(cru_time_lin_eq)\n",
    "plt.scatter(cru_time[\"Ordinal\"], cru_time[\"Daily Average\"])\n",
    "plt.plot(cru_time[\"Ordinal\"], m * cru_time[\"Ordinal\"] + b, color=\"red\")\n",
    "plt.title(\"JPY to USD Ratio Over Crucible Timeframe\")\n",
    "plt.xlabel(\"Date in Ordinal\")\n",
    "plt.ylabel(\"Exchange Rate of JPY to USD\")\n",
    "plt.annotate(cru_time_lin_eq, xy=[738990, 150], color=\"red\")\n",
    "plt.show()"
   ]
  },
  {
   "cell_type": "code",
   "execution_count": 32,
   "id": "c4e1d7c9",
   "metadata": {},
   "outputs": [
    {
     "name": "stdout",
     "output_type": "stream",
     "text": [
      "y = 0.08696145224091921x + -64111.571138774416\n"
     ]
    }
   ],
   "source": [
    "# Linear regression aquired from scipy\n",
    "slope, intercept, r, p, se = linregress(cru_time[\"Ordinal\"], cru_time[\"Daily Average\"])\n",
    "print(f\"y = {slope}x + {intercept}\")"
   ]
  },
  {
   "cell_type": "code",
   "execution_count": null,
   "id": "7a03132f",
   "metadata": {},
   "outputs": [],
   "source": [
    "# New dataframe with currency dates formated to ordinal."
   ]
  },
  {
   "cell_type": "code",
   "execution_count": null,
   "id": "2e1401c7",
   "metadata": {},
   "outputs": [],
   "source": [
    "# Plot JPY to USD and Chaos to Divine data\n",
    "plt.scatter(\n",
    "plt.plot(cru_time[\"Ordinal\"], m * cru_time[\"Ordinal\"] + b, color=\"red\")"
   ]
  }
 ],
 "metadata": {
  "kernelspec": {
   "display_name": "myenv",
   "language": "python",
   "name": "myenv"
  },
  "language_info": {
   "codemirror_mode": {
    "name": "ipython",
    "version": 3
   },
   "file_extension": ".py",
   "mimetype": "text/x-python",
   "name": "python",
   "nbconvert_exporter": "python",
   "pygments_lexer": "ipython3",
   "version": "3.12.4"
  }
 },
 "nbformat": 4,
 "nbformat_minor": 5
}
