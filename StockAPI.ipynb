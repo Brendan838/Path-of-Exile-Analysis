{
 "cells": [
  {
   "cell_type": "code",
   "execution_count": 75,
   "id": "4db9d0ea-b449-47fa-903e-3951fae683e4",
   "metadata": {
    "scrolled": true
   },
   "outputs": [],
   "source": [
    "# Dependencies\n",
    "import pandas as pd\n",
    "import numpy as np\n",
    "import requests\n",
    "import json\n",
    "import datetime\n",
    "from scipy.stats import linregress\n",
    "\n",
    "# Import API Key\n",
    "from config import api_key"
   ]
  },
  {
   "cell_type": "code",
   "execution_count": 76,
   "id": "141f4841-32c6-4d8d-8dcb-2d5f8bfb7978",
   "metadata": {},
   "outputs": [],
   "source": [
    "# Attempt to get Monthly data from API for USD vs. JPY\n",
    "try:\n",
    "    usd_yen = requests.get(f\"https://www.alphavantage.co/query?function=FX_MONTHLY&from_symbol=USD&to_symbol=JPY&apikey={api_key}\").json()\n",
    "except:\n",
    "    print(\"Something went wrong with the API request.\")"
   ]
  },
  {
   "cell_type": "code",
   "execution_count": 77,
   "id": "8713c390-15f7-4d76-8fc7-f583bd3fc681",
   "metadata": {},
   "outputs": [
    {
     "data": {
      "text/html": [
       "<div>\n",
       "<style scoped>\n",
       "    .dataframe tbody tr th:only-of-type {\n",
       "        vertical-align: middle;\n",
       "    }\n",
       "\n",
       "    .dataframe tbody tr th {\n",
       "        vertical-align: top;\n",
       "    }\n",
       "\n",
       "    .dataframe thead th {\n",
       "        text-align: right;\n",
       "    }\n",
       "</style>\n",
       "<table border=\"1\" class=\"dataframe\">\n",
       "  <thead>\n",
       "    <tr style=\"text-align: right;\">\n",
       "      <th></th>\n",
       "      <th>1. open</th>\n",
       "      <th>2. high</th>\n",
       "      <th>3. low</th>\n",
       "      <th>4. close</th>\n",
       "    </tr>\n",
       "  </thead>\n",
       "  <tbody>\n",
       "    <tr>\n",
       "      <th>2024-11-13</th>\n",
       "      <td>152.28700</td>\n",
       "      <td>154.93900</td>\n",
       "      <td>151.34300</td>\n",
       "      <td>154.88800</td>\n",
       "    </tr>\n",
       "    <tr>\n",
       "      <th>2024-10-31</th>\n",
       "      <td>143.73599</td>\n",
       "      <td>153.86800</td>\n",
       "      <td>143.53200</td>\n",
       "      <td>151.98000</td>\n",
       "    </tr>\n",
       "    <tr>\n",
       "      <th>2024-09-30</th>\n",
       "      <td>146.38100</td>\n",
       "      <td>147.18800</td>\n",
       "      <td>139.57800</td>\n",
       "      <td>143.71001</td>\n",
       "    </tr>\n",
       "    <tr>\n",
       "      <th>2024-08-29</th>\n",
       "      <td>149.20100</td>\n",
       "      <td>149.76401</td>\n",
       "      <td>141.69701</td>\n",
       "      <td>144.89000</td>\n",
       "    </tr>\n",
       "    <tr>\n",
       "      <th>2024-07-31</th>\n",
       "      <td>161.51199</td>\n",
       "      <td>161.94200</td>\n",
       "      <td>148.50501</td>\n",
       "      <td>149.74400</td>\n",
       "    </tr>\n",
       "    <tr>\n",
       "      <th>...</th>\n",
       "      <td>...</td>\n",
       "      <td>...</td>\n",
       "      <td>...</td>\n",
       "      <td>...</td>\n",
       "    </tr>\n",
       "    <tr>\n",
       "      <th>2015-04-30</th>\n",
       "      <td>119.57600</td>\n",
       "      <td>120.83300</td>\n",
       "      <td>118.50700</td>\n",
       "      <td>119.45200</td>\n",
       "    </tr>\n",
       "    <tr>\n",
       "      <th>2015-03-31</th>\n",
       "      <td>119.84500</td>\n",
       "      <td>121.99600</td>\n",
       "      <td>118.33000</td>\n",
       "      <td>120.02200</td>\n",
       "    </tr>\n",
       "    <tr>\n",
       "      <th>2015-02-26</th>\n",
       "      <td>117.18500</td>\n",
       "      <td>120.40200</td>\n",
       "      <td>116.89600</td>\n",
       "      <td>119.37700</td>\n",
       "    </tr>\n",
       "    <tr>\n",
       "      <th>2015-01-29</th>\n",
       "      <td>119.89000</td>\n",
       "      <td>120.73600</td>\n",
       "      <td>115.86500</td>\n",
       "      <td>118.24800</td>\n",
       "    </tr>\n",
       "    <tr>\n",
       "      <th>2014-12-31</th>\n",
       "      <td>118.34200</td>\n",
       "      <td>121.67100</td>\n",
       "      <td>115.58000</td>\n",
       "      <td>119.67300</td>\n",
       "    </tr>\n",
       "  </tbody>\n",
       "</table>\n",
       "<p>120 rows × 4 columns</p>\n",
       "</div>"
      ],
      "text/plain": [
       "              1. open    2. high     3. low   4. close\n",
       "2024-11-13  152.28700  154.93900  151.34300  154.88800\n",
       "2024-10-31  143.73599  153.86800  143.53200  151.98000\n",
       "2024-09-30  146.38100  147.18800  139.57800  143.71001\n",
       "2024-08-29  149.20100  149.76401  141.69701  144.89000\n",
       "2024-07-31  161.51199  161.94200  148.50501  149.74400\n",
       "...               ...        ...        ...        ...\n",
       "2015-04-30  119.57600  120.83300  118.50700  119.45200\n",
       "2015-03-31  119.84500  121.99600  118.33000  120.02200\n",
       "2015-02-26  117.18500  120.40200  116.89600  119.37700\n",
       "2015-01-29  119.89000  120.73600  115.86500  118.24800\n",
       "2014-12-31  118.34200  121.67100  115.58000  119.67300\n",
       "\n",
       "[120 rows x 4 columns]"
      ]
     },
     "execution_count": 77,
     "metadata": {},
     "output_type": "execute_result"
    }
   ],
   "source": [
    "# Convert to DataFrame\n",
    "usdjpy_df = pd.DataFrame(usd_yen['Time Series FX (Monthly)'])\n",
    "usdjpy_df = usdjpy_df.transpose()\n",
    "usdjpy_df"
   ]
  },
  {
   "cell_type": "code",
   "execution_count": 78,
   "id": "07bac456-cc78-4b51-9650-2f0389611656",
   "metadata": {},
   "outputs": [
    {
     "data": {
      "text/html": [
       "<div>\n",
       "<style scoped>\n",
       "    .dataframe tbody tr th:only-of-type {\n",
       "        vertical-align: middle;\n",
       "    }\n",
       "\n",
       "    .dataframe tbody tr th {\n",
       "        vertical-align: top;\n",
       "    }\n",
       "\n",
       "    .dataframe thead th {\n",
       "        text-align: right;\n",
       "    }\n",
       "</style>\n",
       "<table border=\"1\" class=\"dataframe\">\n",
       "  <thead>\n",
       "    <tr style=\"text-align: right;\">\n",
       "      <th></th>\n",
       "      <th>Open</th>\n",
       "      <th>Close</th>\n",
       "      <th>High</th>\n",
       "      <th>Low</th>\n",
       "      <th>Daily Average</th>\n",
       "    </tr>\n",
       "  </thead>\n",
       "  <tbody>\n",
       "    <tr>\n",
       "      <th>2024-11-13</th>\n",
       "      <td>152.28700</td>\n",
       "      <td>154.88800</td>\n",
       "      <td>154.93900</td>\n",
       "      <td>151.34300</td>\n",
       "      <td>153.364250</td>\n",
       "    </tr>\n",
       "    <tr>\n",
       "      <th>2024-10-31</th>\n",
       "      <td>143.73599</td>\n",
       "      <td>151.98000</td>\n",
       "      <td>153.86800</td>\n",
       "      <td>143.53200</td>\n",
       "      <td>148.278998</td>\n",
       "    </tr>\n",
       "    <tr>\n",
       "      <th>2024-09-30</th>\n",
       "      <td>146.38100</td>\n",
       "      <td>143.71001</td>\n",
       "      <td>147.18800</td>\n",
       "      <td>139.57800</td>\n",
       "      <td>144.214252</td>\n",
       "    </tr>\n",
       "    <tr>\n",
       "      <th>2024-08-29</th>\n",
       "      <td>149.20100</td>\n",
       "      <td>144.89000</td>\n",
       "      <td>149.76401</td>\n",
       "      <td>141.69701</td>\n",
       "      <td>146.388005</td>\n",
       "    </tr>\n",
       "    <tr>\n",
       "      <th>2024-07-31</th>\n",
       "      <td>161.51199</td>\n",
       "      <td>149.74400</td>\n",
       "      <td>161.94200</td>\n",
       "      <td>148.50501</td>\n",
       "      <td>155.425750</td>\n",
       "    </tr>\n",
       "  </tbody>\n",
       "</table>\n",
       "</div>"
      ],
      "text/plain": [
       "                 Open      Close       High        Low  Daily Average\n",
       "2024-11-13  152.28700  154.88800  154.93900  151.34300     153.364250\n",
       "2024-10-31  143.73599  151.98000  153.86800  143.53200     148.278998\n",
       "2024-09-30  146.38100  143.71001  147.18800  139.57800     144.214252\n",
       "2024-08-29  149.20100  144.89000  149.76401  141.69701     146.388005\n",
       "2024-07-31  161.51199  149.74400  161.94200  148.50501     155.425750"
      ]
     },
     "execution_count": 78,
     "metadata": {},
     "output_type": "execute_result"
    }
   ],
   "source": [
    "# Clean Dataframe\n",
    "renamed_df = usdjpy_df.rename(columns={\"1. open\":\"Open\", \"2. high\":\"High\", \"3. low\":\"Low\", \"4. close\":\"Close\"})\n",
    "clean_df = renamed_df[[\"Open\", \"Close\", \"High\", \"Low\"]].astype(float)\n",
    "clean_df[\"Daily Average\"] = clean_df.mean(axis=1)\n",
    "clean_df\n",
    "clean_df.index = pd.to_datetime(clean_df.index)\n",
    "clean_df.head()\n"
   ]
  },
  {
   "cell_type": "code",
   "execution_count": 79,
   "id": "b2bac519-acd2-4a00-90a0-c720da28bdd8",
   "metadata": {},
   "outputs": [
    {
     "name": "stdout",
     "output_type": "stream",
     "text": [
      "USD to JPY from 2024-11-13 to 2014-12-31 \n",
      "USD to JPY Mean= 119.71 \n",
      "USD to JPY Median= 112.85 \n",
      "USD to JPY STD Error= 15.26 \n",
      "USD to JPY Variance= 232.92\n"
     ]
    }
   ],
   "source": [
    "# Summarize Open, Close, High, and Low of USD to JPY\n",
    "start_time = list(usd_yen[\"Time Series FX (Monthly)\"])[0]\n",
    "end_time = list(usd_yen[\"Time Series FX (Monthly)\"])[-1]\n",
    "usdjpy_mean = clean_df[\"Open\"].mean()\n",
    "usdjpy_median = clean_df[\"Open\"].median()\n",
    "usdjpy_std = clean_df[\"Open\"].std()\n",
    "usdjpy_var = clean_df[\"Open\"].var()\n",
    "print(f\"USD to JPY from {start_time} to {end_time} \\nUSD to JPY Mean= {round(usdjpy_mean, 2)} \\nUSD to JPY Median= {round(usdjpy_median, 2)} \\nUSD to JPY STD Error= {round(usdjpy_std, 2)} \\nUSD to JPY Variance= {round(usdjpy_var, 2)}\")\n"
   ]
  },
  {
   "cell_type": "code",
   "execution_count": 80,
   "id": "9580fb68-7259-4838-a4f1-eaa92276e4c5",
   "metadata": {},
   "outputs": [
    {
     "name": "stdout",
     "output_type": "stream",
     "text": [
      "y = 0.96x + 9.86\n"
     ]
    },
    {
     "data": {
      "text/plain": [
       "<Axes: title={'center': 'USD to JPY from 2024-03-29 to 2024-07-23'}>"
      ]
     },
     "execution_count": 80,
     "metadata": {},
     "output_type": "execute_result"
    },
    {
     "data": {
      "image/png": "[encoded data removed]",
      "text/plain": [
       "<Figure size 640x480 with 1 Axes>"
      ]
     },
     "metadata": {},
     "output_type": "display_data"
    }
   ],
   "source": [
    "# Make df for Necropolis League\n",
    "nec_start = pd.to_datetime(\"2024-03-29\")\n",
    "nec_end = pd.to_datetime(\"2024-07-23\")\n",
    "nec_time = clean_df[(clean_df.index <= nec_end) & (clean_df.index >= nec_start)]\n",
    "nec_time_daily = nec_time[\"Daily Average\"]\n",
    "\n",
    "# Linear Regression for Necropolis League USD->JPY\n",
    "(slope, intercept, rvalue, pvalue, stderr) = linregress(nec_time[\"Open\"], nec_time[\"Close\"])\n",
    "nec_line_eq = f\"y = {round(slope, 2)}x + {round(intercept, 2)}\"\n",
    "print(nec_line_eq)\n",
    "nec_start_date = nec_start.date()\n",
    "nec_end_date = nec_end.date()\n",
    "nec_time_daily.plot(use_index=True, title= f\"USD to JPY from {nec_start_date} to {nec_end_date}\")"
   ]
  },
  {
   "cell_type": "code",
   "execution_count": 81,
   "id": "2cb6bb64",
   "metadata": {},
   "outputs": [
    {
     "name": "stdout",
     "output_type": "stream",
     "text": [
      "y = 0.55x + 64.35\n"
     ]
    },
    {
     "data": {
      "text/plain": [
       "<Axes: title={'center': 'USD to JPY from 2023-04-07 to 2023-08-15'}, ylabel='JPY to the USD'>"
      ]
     },
     "execution_count": 81,
     "metadata": {},
     "output_type": "execute_result"
    },
    {
     "data": {
      "image/png": "[encoded data removed]",
      "text/plain": [
       "<Figure size 640x480 with 1 Axes>"
      ]
     },
     "metadata": {},
     "output_type": "display_data"
    }
   ],
   "source": [
    "# Make df for Crucible League\n",
    "cru_start = pd.to_datetime(\"2023-04-07\")\n",
    "cru_time = clean_df[(clean_df.index <= cru_end) & (clean_df.index >= cru_start)]\n",
    "cru_time_daily = cru_time[\"Daily Average\"]\n",
    "\n",
    "# Linear Regression for Crucible League USD->JPY\n",
    "(slope, intercept, rvalue, pvalue, stderr) = linregress(cru_time[\"Open\"], cru_time[\"Close\"])\n",
    "cru_line_eq = f\"y = {round(slope, 2)}x + {round(intercept, 2)}\"\n",
    "print(cru_line_eq)\n",
    "cru_end = pd.to_datetime(\"2023-08-15\")\n",
    "cru_end_date = cru_end.date()\n",
    "cru_start_date = cru_start.date()\n",
    "cru_time_daily.plot(use_index=True, title= f\"USD to JPY from {cru_start_date} to {cru_end_date}\", ylabel= \"JPY to the USD\")\n"
   ]
  },
  {
   "cell_type": "code",
   "execution_count": 82,
   "id": "f1851171",
   "metadata": {},
   "outputs": [
    {
     "name": "stdout",
     "output_type": "stream",
     "text": [
      "USD to JPY from 2024-03-29 to 2024-07-23 (Necropolis) \n",
      "USD to JPY Mean= 154.79 \n",
      "USD to JPY Median= 155.29 \n",
      "USD to JPY STD Error= 3.57 \n",
      "USD to JPY Variance= 12.74\n"
     ]
    }
   ],
   "source": [
    "# Necropolis timeframe statistics\n",
    "nec_mean = nec_time_daily.mean()\n",
    "nec_median = nec_time_daily.median()\n",
    "nec_std = nec_time_daily.std()\n",
    "nec_var = nec_time_daily.var()\n",
    "print(f\"USD to JPY from {nec_start_date} to {nec_end_date} (Necropolis) \\nUSD to JPY Mean= {round(nec_mean, 2)} \\nUSD to JPY Median= {round(nec_median, 2)} \\nUSD to JPY STD Error= {round(nec_std, 2)} \\nUSD to JPY Variance= {round(nec_var, 2)}\")"
   ]
  },
  {
   "cell_type": "code",
   "execution_count": 83,
   "id": "52fe46a1",
   "metadata": {},
   "outputs": [
    {
     "name": "stdout",
     "output_type": "stream",
     "text": [
      "USD to JPY from 2023-04-07 to 2023-08-15 (Crucible) \n",
      "USD to JPY Mean= 139.07 \n",
      "USD to JPY Median= 139.8 \n",
      "USD to JPY STD Error= 3.67 \n",
      "USD to JPY Variance= 13.44\n"
     ]
    }
   ],
   "source": [
    "# Crucible timeframe statistics\n",
    "cru_mean = cru_time_daily.mean()\n",
    "cru_median = cru_time_daily.median()\n",
    "cru_std = cru_time_daily.std()\n",
    "cru_var = cru_time_daily.var()\n",
    "print(f\"USD to JPY from {cru_start_date} to {cru_end_date} (Crucible) \\nUSD to JPY Mean= {round(cru_mean, 2)} \\nUSD to JPY Median= {round(cru_median, 2)} \\nUSD to JPY STD Error= {round(cru_std, 2)} \\nUSD to JPY Variance= {round(cru_var, 2)}\")"
   ]
  },
  {
   "cell_type": "code",
   "execution_count": null,
   "id": "e715fa89",
   "metadata": {},
   "outputs": [],
   "source": [
    "# Define function to compare necropolis stats with USD to Yen stats. \n",
    "def dtoy_nec(mean, median, stderr, var):\n",
    "    mean_dif = nec_mean - mean\n",
    "    median_dif = nec_median - median\n",
    "    sterr_dif = nec_std - stderr\n",
    "    var_dif = nec_var - var\n",
    "    return(f\"USD to JPY mean difference: {mean_dif}, median difference: {median_dif}, stderr difference: {sterr_dif}, var difference: {var_dif} \")"
   ]
  },
  {
   "cell_type": "code",
   "execution_count": null,
   "id": "017bd4b6",
   "metadata": {},
   "outputs": [],
   "source": [
    "# Define function to compare crucible stats with USD to Yen stats.\n",
    "def dtoy_cru(mean, median, stderr, var):\n",
    "    mean_dif = cru_mean - mean\n",
    "    median_dif = cru_median - median\n",
    "    sterr_dif = cru_std - stderr\n",
    "    var_dif = cru_var - var\n",
    "    return(f\"USD to JPY mean difference: {mean_dif}, median difference: {median_dif}, stderr difference: {sterr_dif}, var difference: {var_dif} \")"
   ]
  },
  {
   "cell_type": "code",
   "execution_count": null,
   "id": "afce0a03",
   "metadata": {},
   "outputs": [],
   "source": []
  }
 ],
 "metadata": {
  "kernelspec": {
   "display_name": "myenv",
   "language": "python",
   "name": "myenv"
  },
  "language_info": {
   "codemirror_mode": {
    "name": "ipython",
    "version": 3
   },
   "file_extension": ".py",
   "mimetype": "text/x-python",
   "name": "python",
   "nbconvert_exporter": "python",
   "pygments_lexer": "ipython3",
   "version": "3.12.4"
  }
 },
 "nbformat": 4,
 "nbformat_minor": 5
}
